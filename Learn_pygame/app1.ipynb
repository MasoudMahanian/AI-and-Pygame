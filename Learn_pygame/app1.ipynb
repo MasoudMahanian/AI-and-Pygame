{
 "cells": [
  {
   "cell_type": "markdown",
   "id": "bc97642b-321d-4b40-8b7c-8457df8e06f8",
   "metadata": {},
   "source": [
    "# Getting to know CLI and GUI"
   ]
  },
  {
   "cell_type": "markdown",
   "id": "e0564210-eed2-4b98-bea9-889fb6a53912",
   "metadata": {},
   "source": [
    "The programs we write with Python functions can only work with texts received and printed with print and input functions. Your program can display various texts and the user can also write the desired text with the keyboard. Such programs have command line interface or CLI (command line interface). These programs are somewhat limited because they cannot draw different shapes, have colors or use the mouse. CLI programs can only receive input with the input function. After the program receives the input, the user must press Enter so that the program can receive the next input. From these statements, it can be concluded that it is impossible to make real-time reactive games with CLI."
   ]
  },
  {
   "cell_type": "markdown",
   "id": "fe59da71-385b-4cd3-be4c-825579e59404",
   "metadata": {},
   "source": [
    "Pygame solves all the problems mentioned above by having special functions for creating programs with a graphical user interface or GUI (graphical user interface). Programs built with GUI, unlike CLI, can display a window with different images and colors."
   ]
  },
  {
   "cell_type": "markdown",
   "id": "c5db0ee4-3312-4364-84f4-d7e120f473aa",
   "metadata": {},
   "source": [
    "# Drawing a simple window with pygame (Hello World program with Python)"
   ]
  },
  {
   "cell_type": "code",
   "execution_count": null,
   "id": "7a2f1e92-bae6-481d-92d3-0569fc048f63",
   "metadata": {},
   "outputs": [
    {
     "name": "stdout",
     "output_type": "stream",
     "text": [
      "pygame 2.5.2 (SDL 2.28.3, Python 3.11.2)\n",
      "Hello from the pygame community. https://www.pygame.org/contribute.html\n"
     ]
    }
   ],
   "source": [
    "import pygame\n",
    "import sys\n",
    "from pygame.locals import *\n",
    "\n",
    "pygame.init()\n",
    "DISPLAYSURF = pygame.display.set_mode((400, 300))\n",
    "pygame.display.set_caption('Hello World!')\n",
    "while True: # main game loop\n",
    "    for event in pygame.event.get():\n",
    "        if event.type == QUIT:\n",
    "            pygame.quit()\n",
    "            sys.exit()\n",
    "    pygame.display.update()"
   ]
  },
  {
   "cell_type": "markdown",
   "id": "38c1ed9d-08a0-423e-9105-6042a6486db0",
   "metadata": {},
   "source": [
    "With the following line, we actually want to tell Python that we intend to use pygame. For this, we need to initialize pygame. If we don't do this, pygame will not work. The pygame.init code should always come after the pygame module and before any other functions. You don't need to know what this function does, just know that in order for pygame functions to work properly, this function must be called before them. So we have"
   ]
  },
  {
   "cell_type": "markdown",
   "id": "50b9e039-a5dd-44ff-a529-da46ae830c9c",
   "metadata": {},
   "source": [
    "set_mode function to create a window with length and width."
   ]
  },
  {
   "cell_type": "markdown",
   "id": "cb383ed9-8ca6-451f-8a53-b7fb8b5d2dfc",
   "metadata": {},
   "source": [
    "With the function pygame.display.set_caption we have determined the name of the window."
   ]
  },
  {
   "cell_type": "code",
   "execution_count": null,
   "id": "183f916a-0666-4edd-b130-fd7d42f60401",
   "metadata": {},
   "outputs": [],
   "source": []
  }
 ],
 "metadata": {
  "kernelspec": {
   "display_name": ".pygameVENV",
   "language": "python",
   "name": ".pygamevenv"
  },
  "language_info": {
   "codemirror_mode": {
    "name": "ipython",
    "version": 3
   },
   "file_extension": ".py",
   "mimetype": "text/x-python",
   "name": "python",
   "nbconvert_exporter": "python",
   "pygments_lexer": "ipython3",
   "version": "3.11.2"
  }
 },
 "nbformat": 4,
 "nbformat_minor": 5
}
