{
 "cells": [
  {
   "cell_type": "markdown",
   "id": "514b9797-3127-4de8-b61e-9c1c5c2602a2",
   "metadata": {},
   "source": [
    "# Working with texts"
   ]
  },
  {
   "cell_type": "code",
   "execution_count": 1,
   "id": "a26c418a-d164-4c16-9aa5-c800fdf6dc68",
   "metadata": {
    "scrolled": true
   },
   "outputs": [
    {
     "name": "stdout",
     "output_type": "stream",
     "text": [
      "pygame 2.5.2 (SDL 2.28.3, Python 3.11.2)\n",
      "Hello from the pygame community. https://www.pygame.org/contribute.html\n"
     ]
    }
   ],
   "source": [
    "import pygame,sys\n",
    "from pygame. locals import * \n",
    "import time"
   ]
  },
  {
   "cell_type": "code",
   "execution_count": 2,
   "id": "2309bc2b-a2d7-435d-b96a-b41a823d4d0b",
   "metadata": {},
   "outputs": [],
   "source": [
    "GREEN=(0,255,0)\n",
    "BLACK=(0,0,0)\n",
    "WHITE=(255,255,255)\n",
    "RED=(255,0,0)\n",
    "BLUE=(0,0,255)\n",
    "YELLOW=(255,255,0)\n",
    "PURPLE=(102,0,102)\n",
    "PINK=(255,0,127)\n",
    "GRAY = (127, 127, 127)"
   ]
  },
  {
   "cell_type": "code",
   "execution_count": 5,
   "id": "d59bdfa3-ec7a-47ba-9ad5-a5dba233168d",
   "metadata": {},
   "outputs": [
    {
     "name": "stdout",
     "output_type": "stream",
     "text": [
      "system font : freesansbold.ttf\n",
      "time needed for Font creation : 0.0010001659393310547\n",
      "256\n",
      "arial\n",
      "arialblack\n",
      "bahnschrift\n",
      "calibri\n",
      "cambria\n",
      "cambriamath\n",
      "candara\n"
     ]
    }
   ],
   "source": [
    "# write \n",
    "pygame. init()\n",
    "screen = pygame. display. set_mode((640, 240))\n",
    "\n",
    "sysfont = pygame. font. get_default_font()\n",
    "print('system font :', sysfont)\n",
    "\n",
    "t0 = time. time()\n",
    "font = pygame. font. SysFont(None, 48)\n",
    "print('time needed for Font creation :', time. time()-t0)\n",
    "\n",
    "img = font. render(sysfont, True, RED)\n",
    "rect = img. get_rect()\n",
    "pygame. draw. rect(img, BLUE, rect, 1)\n",
    "\n",
    "font1 = pygame. font. SysFont('chalkduster. ttf', 72)\n",
    "img1 = font1. render('chalkduster. ttf', True, BLUE)\n",
    "\n",
    "font2 = pygame. font. SysFont('didot. ttc', 72)\n",
    "img2 = font2. render('didot. ttc', True, GREEN)\n",
    "\n",
    "fonts = pygame. font. get_fonts()\n",
    "print(len(fonts))\n",
    "for i in range(7):\n",
    "    print(fonts[i])\n",
    "\n",
    "running = True\n",
    "background = GRAY\n",
    "while running:\n",
    "    for event in pygame. event. get():\n",
    "        if event. type == QUIT:\n",
    "            running = False\n",
    "\n",
    "    screen. fill(background)\n",
    "    screen. blit(img, (20, 20))\n",
    "    screen. blit(img1, (20, 50))\n",
    "    screen. blit(img2, (20, 120))\n",
    "    pygame. display. update()\n",
    "\n",
    "pygame. quit()"
   ]
  },
  {
   "cell_type": "code",
   "execution_count": null,
   "id": "c78ebd1a-18cf-467f-8750-4f621da7f227",
   "metadata": {},
   "outputs": [],
   "source": [
    "pygame. init()\n",
    "screen = pygame. display. set_mode((640, 240))\n",
    "\n",
    "text = 'this text is editable'\n",
    "font = pygame. font. SysFont(None, 48)\n",
    "img = font. render(text, True, RED)\n",
    "\n",
    "rect = img. get_rect()\n",
    "rect. topleft = (20, 20)\n",
    "cursor = Rect(rect. topright, (3, rect. height))\n",
    "\n",
    "running = True\n",
    "background = GRAY\n",
    "\n",
    "while running:\n",
    "    for event in pygame. event. get():\n",
    "        if event. type == QUIT:\n",
    "            running = False\n",
    "        \n",
    "        if event. type == KEYDOWN:\n",
    "            if event. key == K_BACKSPACE:\n",
    "                if len(text)>0:\n",
    "                    text = text[:-1]\n",
    "            else:\n",
    "                text += event. unicode\n",
    "            img = font. render(text, True, RED)\n",
    "            rect. size=img. get_size()\n",
    "            cursor. topleft = rect. topright\n",
    "    \n",
    "    screen. fill(background)\n",
    "    screen. blit(img, rect)\n",
    "    if time. time() % 1 > 0.5: # Add a blinking cursor\n",
    "        pygame. draw. rect(screen, RED, cursor)\n",
    "    pygame. display. update()\n",
    "\n",
    "pygame. quit()"
   ]
  },
  {
   "cell_type": "code",
   "execution_count": null,
   "id": "2268beba-b388-4d3a-9cfa-86a1f4b6e059",
   "metadata": {},
   "outputs": [],
   "source": []
  }
 ],
 "metadata": {
  "kernelspec": {
   "display_name": ".pygameVENV",
   "language": "python",
   "name": ".pygamevenv"
  },
  "language_info": {
   "codemirror_mode": {
    "name": "ipython",
    "version": 3
   },
   "file_extension": ".py",
   "mimetype": "text/x-python",
   "name": "python",
   "nbconvert_exporter": "python",
   "pygments_lexer": "ipython3",
   "version": "3.11.2"
  }
 },
 "nbformat": 4,
 "nbformat_minor": 5
}
